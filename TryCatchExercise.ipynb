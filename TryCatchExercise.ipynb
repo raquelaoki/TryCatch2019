{
  "nbformat": 4,
  "nbformat_minor": 0,
  "metadata": {
    "colab": {
      "name": "TryCatchExercise.ipynb",
      "version": "0.3.2",
      "provenance": [],
      "toc_visible": true,
      "include_colab_link": true
    },
    "kernelspec": {
      "name": "python3",
      "display_name": "Python 3"
    }
  },
  "cells": [
    {
      "cell_type": "markdown",
      "metadata": {
        "id": "view-in-github",
        "colab_type": "text"
      },
      "source": [
        "<a href=\"https://colab.research.google.com/github/raquelaoki/TryCatch2019/blob/master/TryCatchExercise.ipynb\" target=\"_parent\"><img src=\"https://colab.research.google.com/assets/colab-badge.svg\" alt=\"Open In Colab\"/></a>"
      ]
    },
    {
      "cell_type": "markdown",
      "metadata": {
        "id": "sqw1xG9nBRux",
        "colab_type": "text"
      },
      "source": [
        "## **Try/CATCH 2019**\n",
        "Raquel Aoki and Sachini Herath\n"
      ]
    },
    {
      "cell_type": "markdown",
      "metadata": {
        "id": "50Y10CC3BZ9p",
        "colab_type": "text"
      },
      "source": [
        "Let's try out what we learnt so far on a new Dataset!\n",
        "\n",
        "1. Understand the dataset and data formats\n",
        "2. Load the data from the CSV into a DataFrame.\n",
        "3. Check the dataset and correct data formats if necessary.\n",
        "4. Convert string objects to date-time objects or numbers\n",
        "5. Create plots to show interesting patterns.\n",
        "\n",
        "---\n",
        "There are two datasets available for you\n",
        "\n",
        "### Bike Rental Analysis\n",
        "Look at the bike renting patterns from a dataset obtained from a Bike Rental Company in Washington DC. </br>There are 2 data files, days.csv and hours.csv for this task, along with a README file describing the data format.</br>\n",
        "\n",
        "### Avacado Prices\n",
        "Look at Avacado prices in May of 2018, based on actual retail sales of Hass avocados. Do you see any interesting patterns? Can you predict future prices?\n",
        "</br>There is one file containing data, avacado.csv and a README file describing data formats.\n",
        "\n",
        "*Fun fact 1: We got these datasets from [Kaggle](https://www.kaggle.com), which is an online community of data scientists. It also hosts challanges that you can take part in!*\n",
        "\n",
        "---\n",
        "\n",
        "\n",
        "\n"
      ]
    },
    {
      "cell_type": "markdown",
      "metadata": {
        "id": "B0fZVYP6KLJK",
        "colab_type": "text"
      },
      "source": [
        "Let's start with the Avacado Prices dataset.\n",
        "\n",
        "### 1. Loading Libraries\n"
      ]
    },
    {
      "cell_type": "code",
      "metadata": {
        "id": "T9v7p6sVKma6",
        "colab_type": "code",
        "colab": {}
      },
      "source": [
        "'''\n",
        "Load neccessary libraries\n",
        "'''\n",
        "# INSERT CODE HERE"
      ],
      "execution_count": 0,
      "outputs": []
    },
    {
      "cell_type": "markdown",
      "metadata": {
        "id": "a7eJtwJ3d33Z",
        "colab_type": "text"
      },
      "source": [
        "### Loading the dataset\n",
        "\n",
        "Upload the .csv file to Files section in this notebook."
      ]
    },
    {
      "cell_type": "code",
      "metadata": {
        "id": "9J9pEu9imHft",
        "colab_type": "code",
        "colab": {}
      },
      "source": [
        "'''\n",
        "Load the dataset from avacado.csv here\n",
        "'''\n",
        "# INSERT CODE HERE"
      ],
      "execution_count": 0,
      "outputs": []
    },
    {
      "cell_type": "code",
      "metadata": {
        "id": "nPOZu0pUMq7j",
        "colab_type": "code",
        "colab": {}
      },
      "source": [
        "'''Check the first few rows of the dataset'''\n",
        "# INSERT CODE HERE"
      ],
      "execution_count": 0,
      "outputs": []
    },
    {
      "cell_type": "code",
      "metadata": {
        "id": "Bms6WAQAMuoK",
        "colab_type": "code",
        "colab": {}
      },
      "source": [
        "''' Checking out a summary of data values'''\n",
        "print(data.info())\n"
      ],
      "execution_count": 0,
      "outputs": []
    },
    {
      "cell_type": "markdown",
      "metadata": {
        "id": "8Dhd85t0Lil_",
        "colab_type": "text"
      },
      "source": [
        "### Pre_processing\n",
        "\n",
        "Based on your task figure out if you need to extract data, convert columns to numbers or date_time and filter out values"
      ]
    },
    {
      "cell_type": "code",
      "metadata": {
        "id": "grC0XW3fLiPC",
        "colab_type": "code",
        "colab": {}
      },
      "source": [
        "'''Change date time to timestamp'''\n",
        "# INSERT CODE HERE"
      ],
      "execution_count": 0,
      "outputs": []
    },
    {
      "cell_type": "markdown",
      "metadata": {
        "id": "qRIZhaXoQgXQ",
        "colab_type": "text"
      },
      "source": [
        "### Fitting a model\n",
        "Let's look at how the Average Price changes with time.Find the Linear Regression model for the task you selected. "
      ]
    },
    {
      "cell_type": "code",
      "metadata": {
        "id": "vkRNMk98Q0MV",
        "colab_type": "code",
        "colab": {}
      },
      "source": [
        "''' Fit Linear Regression model to for date vs. AveragePrice'''\n",
        "# INSERT CODE HERE"
      ],
      "execution_count": 0,
      "outputs": []
    },
    {
      "cell_type": "markdown",
      "metadata": {
        "id": "np7o2CUVLKQa",
        "colab_type": "text"
      },
      "source": [
        "Let's try to predict the average price for today, using the trained model."
      ]
    },
    {
      "cell_type": "code",
      "metadata": {
        "id": "tXCS2DOvTa5f",
        "colab_type": "code",
        "colab": {}
      },
      "source": [
        "# Get the time stamp for today\n",
        "import time\n",
        "import datetime\n",
        "s = \"03/05/2019\"\n",
        "today_timestamp = time.mktime(datetime.datetime.strptime(s, \"%d/%m/%Y\").timetuple())\n",
        "\n",
        "\n",
        "'''Calculate prediction for today using the trained model.'''\n",
        "# INSERT CODE HERE"
      ],
      "execution_count": 0,
      "outputs": []
    },
    {
      "cell_type": "markdown",
      "metadata": {
        "id": "7yzWjq6yQ95M",
        "colab_type": "text"
      },
      "source": [
        "### Creating the graphic\n",
        "Let's look at the price trend graphically. Plot the data and over fitted model in a graph against time.\n"
      ]
    },
    {
      "cell_type": "code",
      "metadata": {
        "id": "IIMzLIL5REkf",
        "colab_type": "code",
        "colab": {}
      },
      "source": [
        "'''Plot graph'''\n",
        "# INSERT CODE HERE"
      ],
      "execution_count": 0,
      "outputs": []
    },
    {
      "cell_type": "markdown",
      "metadata": {
        "id": "bR14tuTaMaKk",
        "colab_type": "text"
      },
      "source": [
        "### Avacado Problems!\n",
        "\n",
        "Congratulations! You can now load a new dataset and perform interesting analysis.\n",
        "Here are few questions you can find answers to, using this dataset.\n",
        "\n",
        "\n",
        "1.  Does organic avacoda prices follow the same trend as above?\n",
        "2.  How do the price trend differ according to the region?\n",
        "\n"
      ]
    },
    {
      "cell_type": "markdown",
      "metadata": {
        "id": "2E3-_-O-PXhO",
        "colab_type": "text"
      },
      "source": [
        "\n",
        "\n",
        "---\n",
        "## Challange\n",
        "\n",
        "Now let's solve the mystery of Bike Rentals. \n",
        "\n",
        "</br>Take a look at the bike rental dataset and ffigure out an intersting problem to solve. Using one of the data files, figure out an intersting problem to solve.\n",
        "\n",
        "</br> You may work in pairs.\n",
        "\n",
        "\n"
      ]
    },
    {
      "cell_type": "markdown",
      "metadata": {
        "id": "Rik8QxyeMD8I",
        "colab_type": "text"
      },
      "source": [
        "### Selecting a Task\n",
        "Here are some visualizations of the data that may help you select an interesting task to work on. (Replace the placeholders, A,B, with the suitable column names. Don't forget to change the titles and labels accordingly. )"
      ]
    },
    {
      "cell_type": "code",
      "metadata": {
        "id": "uL6q1ljKPyaz",
        "colab_type": "code",
        "colab": {}
      },
      "source": [
        "'''\n",
        "Histogram\n",
        "Find the distribution of values in a single columns\n",
        "'''\n",
        "\n",
        "# A = <column name>\n",
        "data[\"A\"].plot(kind=\"hist\",color=\"blue\",bins=30,grid=True,alpha=0.65,label=\"A\",figsize=(10,10))\n",
        "plt.legend()\n",
        "plt.xlabel(\"A\")\n",
        "plt.title(\"Distribution of A\")\n",
        "plt.show()"
      ],
      "execution_count": 0,
      "outputs": []
    },
    {
      "cell_type": "code",
      "metadata": {
        "id": "5TwX1w7RPQi1",
        "colab_type": "code",
        "colab": {}
      },
      "source": [
        "'''\n",
        "Scatter plot\n",
        "Correlation between A, B values \n",
        "'''\n",
        "\n",
        "# A = <column name>\n",
        "# B = <column name>\n",
        "data.plot(kind=\"scatter\", x=\"A\", y=\"B\", alpha=0.5, color=\"r\")\n",
        "plt.xlabel(\"label A\")\n",
        "plt.ylabel(\"label B\")\n",
        "plt.title(\"Scatter Plot\")\n",
        "plt.show()"
      ],
      "execution_count": 0,
      "outputs": []
    },
    {
      "cell_type": "code",
      "metadata": {
        "id": "bADRmMEpS_75",
        "colab_type": "code",
        "colab": {}
      },
      "source": [
        "'''\n",
        "Line Graph\n",
        "Value of A against the series B\n",
        "'''\n",
        "# A = <column name>\n",
        "# B = <column name>\n",
        "data.plot(kind=\"line\", x=\"A\", y=\"B\", alpha=0.5, color=\"g\")\n",
        "plt.xlabel(\"label A\")\n",
        "plt.ylabel(\"label B\")\n",
        "plt.title(\"B vs A\")\n",
        "plt.show()"
      ],
      "execution_count": 0,
      "outputs": []
    }
  ]
}