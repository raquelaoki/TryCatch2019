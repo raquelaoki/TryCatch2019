{
 "cells": [
  {
   "cell_type": "code",
   "execution_count": 9,
   "metadata": {},
   "outputs": [
    {
     "name": "stdout",
     "output_type": "stream",
     "text": [
      "   column_x  column_y\n",
      "0       0.0       1.0\n",
      "1       3.7       4.1\n",
      "2       2.2       3.1\n",
      "3       2.5       2.5\n",
      "4       2.4       2.8\n",
      "5       1.5       2.2\n",
      "6       3.8       3.5\n",
      "7       3.5       2.8\n"
     ]
    }
   ],
   "source": [
    "import pandas as pd\n",
    "import matplotlib.pyplot as plt\n",
    "from scipy import stats         #data science model \n",
    "\n",
    "\n",
    "data = pd.DataFrame({'column_x' : [0,3.7,2.2, 2.5, 2.4, 1.5,3.8,3.5], 'column_y' : [1,4.1,3.1,2.5,2.8,2.2,3.5,2.8]})\n",
    "print(data)"
   ]
  },
  {
   "cell_type": "code",
   "execution_count": 10,
   "metadata": {},
   "outputs": [
    {
     "data": {
      "image/png": "[encoded data removed]",
      "text/plain": [
       "<Figure size 432x288 with 1 Axes>"
      ]
     },
     "metadata": {
      "needs_background": "light"
     },
     "output_type": "display_data"
    }
   ],
   "source": [
    "plt.xticks(rotation=25)\n",
    "plt.plot(data['column_x'], data['column_y'], 'bo', alpha=1)\n",
    "plt.xlabel('Column X')\n",
    "plt.ylabel('Column Y')\n",
    "plt.show()"
   ]
  },
  {
   "cell_type": "code",
   "execution_count": 11,
   "metadata": {},
   "outputs": [
    {
     "name": "stdout",
     "output_type": "stream",
     "text": [
      "0.650959860383944 1.155148342059337\n"
     ]
    },
    {
     "data": {
      "image/png": "[encoded data removed]",
      "text/plain": [
       "<Figure size 432x288 with 1 Axes>"
      ]
     },
     "metadata": {
      "needs_background": "light"
     },
     "output_type": "display_data"
    }
   ],
   "source": [
    "fit2 = stats.linregress(data['column_x'], data['column_y'])\n",
    "print(fit2.slope, fit2.intercept)\n",
    "#data['prediction'] = data['column_x']*fit2.slope + fit2.intercept\n",
    "data['prediction'] = data['column_x']\n",
    "\n",
    "\n",
    "plt.xticks(rotation=25)\n",
    "plt.plot(data['column_x'], data['column_y'], 'bo', alpha=0.5)\n",
    "plt.plot(data['column_x'], data['prediction'], 'r-', linewidth=3)\n",
    "plt.xlabel('Column X')\n",
    "plt.ylabel('Column Y/Prediction')\n",
    "plt.show()"
   ]
  },
  {
   "cell_type": "code",
   "execution_count": 13,
   "metadata": {},
   "outputs": [
    {
     "name": "stdout",
     "output_type": "stream",
     "text": [
      "   column_x  column_y\n",
      "0       0.0       1.0\n",
      "1       3.7       4.1\n",
      "2       2.2       3.1\n",
      "3       2.5       2.5\n",
      "4       2.4       2.8\n",
      "5       1.5       2.2\n",
      "6       3.8       3.5\n",
      "7       3.5       2.8\n",
      "b:  0.650959860383944  a:  1.155148342059337\n"
     ]
    }
   ],
   "source": [
    "data = pd.DataFrame({'column_x' : [0,3.7,2.2, 2.5, 2.4, 1.5,3.8,3.5], 'column_y' : [1,4.1,3.1,2.5,2.8,2.2,3.5,2.8]})\n",
    "print(data)\n",
    "fit = stats.linregress(data['column_x'], data['column_y'])\n",
    "print('b: ',fit.slope,' a: ' ,fit.intercept)"
   ]
  },
  {
   "cell_type": "markdown",
   "metadata": {},
   "source": [
    "$\\hat{\\beta} = \\frac{\\sum_{i=1}^n(x_i-mean(x))(y_i-mean(y))}{\\sum_{i=1}^n(x_i-mean(x))^2}$\n",
    "\n",
    "\n",
    "$\\hat{\\alpha} = mean(y)-\\hat{\\beta}\\times mean(x)$\n",
    "\n",
    "$\\hat{\\beta} = \\frac{7.46}{11.46} = 0.65$\n",
    "\n",
    "$\\hat{\\alpha} = 2.75-0.65*2.45 = 1.15$"
   ]
  }
 ],
 "metadata": {
  "kernelspec": {
   "display_name": "Python 3",
   "language": "python",
   "name": "python3"
  },
  "language_info": {
   "codemirror_mode": {
    "name": "ipython",
    "version": 3
   },
   "file_extension": ".py",
   "mimetype": "text/x-python",
   "name": "python",
   "nbconvert_exporter": "python",
   "pygments_lexer": "ipython3",
   "version": "3.6.7"
  }
 },
 "nbformat": 4,
 "nbformat_minor": 2
}
